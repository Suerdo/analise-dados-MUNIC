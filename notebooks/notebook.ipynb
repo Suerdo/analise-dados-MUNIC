{
 "cells": [
  {
   "cell_type": "markdown",
   "id": "170c89e4-3296-49e2-abab-23b252817c49",
   "metadata": {},
   "source": [
    "# MUNIC - Governo e sua relação com a agricultura familiar\n",
    "<hr>\n",
    "<p style=\"text-align: justify;\">\n",
    "<strong>Este estudo</strong> consiste na leitura, manipulação e análise de uma base de dados específica.\n",
    "</p>\n",
    "<p style=\"text-align: justify;\">\n",
    "<strong>A Pesquisa de Informações Básicas Municipais - MUNIC</strong> é um levantamento pormenorizado de registros administrativos sobre a estrutura, a dinâmica e o funcionamento das instituições públicas municipais, em especial a prefeitura, compreendendo, também, diferentes aspectos das políticas públicas setoriais sob responsabilidade dessa esfera governamental. Seus resultados permitem a consolidação de uma base de dados estatísticos e cadastrais atualizados, com indicadores de avaliação e monitoramento dos quadros institucional e administrativo das municipalidades sob a perspectiva da gestão.\n",
    "</p>\n",
    "<p style=\"text-align: justify;\">\n",
    "Será realizada uma análise baseada na base de dados do MUNIC de <strong>2023</strong>. E essa análise tem como objetivo principal gerar <strong>conhecimento</strong>.\n",
    "</p>"
   ]
  },
  {
   "cell_type": "markdown",
   "id": "54fb504c-2bd4-41aa-9ef6-2c319a3f9788",
   "metadata": {},
   "source": [
    "# O que será analisado ? \n",
    "<hr>\n",
    "<p style=\"text-align: justify;\">\n",
    "Com base na coleta de dados das colunas relacionadas aos Serviços de Assistência Técnica e Extensão Rural para agricultores familiares e povos de comunidades tradicionais <strong>(MSAN01)</strong>, será analisada a distribuição dos recursos por esfera política. Isso inclui identificar se os recursos são provenientes do governo federal <strong>(MSAN171211)</strong>, do governo estadual <strong>(MSAN171212)</strong>, do próprio município <strong>(MSAN171213)</strong> ou se há contribuição conjunta de mais de uma dessas esferas.\n",
    "</p>\n",
    "<p style=\"text-align: justify;\">\n",
    "Além disso, será calculada a média da quantidade de municípios que recebem recursos disponibilizados por cada esfera e sua distribuição nas diferentes regiões. Será analisada, especificamente, a média do \"Sim\", \"Não\" e \"Sem dados\" em resposta ao recebimento dos recursos federais destinados a cada região, identificando qual região tem mais municípios que recebem mais recursos federais e qual recebem menos.\n",
    "</p>"
   ]
  },
  {
   "cell_type": "markdown",
   "id": "52277e1f-2339-4569-a437-0b263915b099",
   "metadata": {},
   "source": [
    "### Importação do pandas e o arquivo original\n",
    "<hr>"
   ]
  },
  {
   "cell_type": "code",
   "execution_count": 4,
   "id": "934498ce-32a9-4d3c-bbdb-92db90ffe00f",
   "metadata": {},
   "outputs": [],
   "source": [
    "#Importando a biblioteca pandas\n",
    "import pandas as pd"
   ]
  },
  {
   "cell_type": "code",
   "execution_count": 16,
   "id": "46396287-c3d1-491d-b996-9908347fc190",
   "metadata": {},
   "outputs": [
    {
     "name": "stdout",
     "output_type": "stream",
     "text": [
      "C:\\Users\\Suerdo\\MUNIC_files\\notebooks\n"
     ]
    }
   ],
   "source": [
    "import os\n",
    "print(os.getcwd())"
   ]
  },
  {
   "cell_type": "code",
   "execution_count": 18,
   "id": "6f1fde4d-9b75-4a21-8f2a-d49b0dc42ea9",
   "metadata": {},
   "outputs": [],
   "source": [
    "#Importando o arquivo original (sem qualquer modificação)\n",
    "data_original = pd.ExcelFile(\"../datasets/Base_MUNIC_2023 (1).xlsx\")"
   ]
  },
  {
   "cell_type": "code",
   "execution_count": 20,
   "id": "e5d2243f-3810-4e10-8443-1dcd28951a72",
   "metadata": {},
   "outputs": [
    {
     "data": {
      "text/plain": [
       "['Dicionário',\n",
       " 'Recursos humanos',\n",
       " 'Assistência Social',\n",
       " 'Trabalho e Inclusão Produtiva',\n",
       " 'Segurança Alimentar',\n",
       " 'Política para Mulheres',\n",
       " 'Segurança Pública',\n",
       " 'Direitos Humanos',\n",
       " 'Primeira Infância']"
      ]
     },
     "execution_count": 20,
     "metadata": {},
     "output_type": "execute_result"
    }
   ],
   "source": [
    "#Visualização dos nomes das tabelas da Base de Dados do MUNIC - 2023\n",
    "data_original.sheet_names"
   ]
  },
  {
   "cell_type": "markdown",
   "id": "3592fb8e-6e06-4590-9ef2-ae5cb4e4b58e",
   "metadata": {},
   "source": [
    "### Início do Projeto Multidisciplinar II \n",
    "<hr>"
   ]
  },
  {
   "cell_type": "code",
   "execution_count": 22,
   "id": "f21186f9-9b19-4b05-91ad-d5a3840dc260",
   "metadata": {},
   "outputs": [],
   "source": [
    "#Importando o arquivo já modificado\n",
    "data_modificado = pd.ExcelFile(\"../datasets/Base_MUNIC_2023_atualizada (1).xlsx\")"
   ]
  },
  {
   "cell_type": "code",
   "execution_count": 24,
   "id": "6c5dfb40-61e4-470e-941d-785bf3c90a69",
   "metadata": {},
   "outputs": [
    {
     "data": {
      "text/plain": [
       "['Segurança Alimentar']"
      ]
     },
     "execution_count": 24,
     "metadata": {},
     "output_type": "execute_result"
    }
   ],
   "source": [
    "#Listando o nomes das abas, nesse caso apenas o de Segurança Alimentar, já que iremos apenas trabalhar com dados dessa aba.\n",
    "data_modificado.sheet_names"
   ]
  },
  {
   "cell_type": "code",
   "execution_count": 28,
   "id": "7a48e46d-8e21-44fc-8c95-8f224b41db4c",
   "metadata": {},
   "outputs": [],
   "source": [
    "data_modificado = pd.read_excel(\"../datasets/Base_MUNIC_2023_atualizada (1).xlsx\", sheet_name=\"Segurança Alimentar\")"
   ]
  },
  {
   "cell_type": "code",
   "execution_count": 30,
   "id": "37b0eb35-3a2d-4b5c-a253-3603082dbc6b",
   "metadata": {},
   "outputs": [
    {
     "data": {
      "text/html": [
       "<div>\n",
       "<style scoped>\n",
       "    .dataframe tbody tr th:only-of-type {\n",
       "        vertical-align: middle;\n",
       "    }\n",
       "\n",
       "    .dataframe tbody tr th {\n",
       "        vertical-align: top;\n",
       "    }\n",
       "\n",
       "    .dataframe thead th {\n",
       "        text-align: right;\n",
       "    }\n",
       "</style>\n",
       "<table border=\"1\" class=\"dataframe\">\n",
       "  <thead>\n",
       "    <tr style=\"text-align: right;\">\n",
       "      <th></th>\n",
       "      <th>CodMun</th>\n",
       "      <th>UF</th>\n",
       "      <th>Regiao</th>\n",
       "      <th>MSAN01</th>\n",
       "      <th>MSAN1712</th>\n",
       "      <th>MSAN171211</th>\n",
       "      <th>MSAN171212</th>\n",
       "      <th>MSAN171213</th>\n",
       "    </tr>\n",
       "  </thead>\n",
       "  <tbody>\n",
       "    <tr>\n",
       "      <th>0</th>\n",
       "      <td>1100015</td>\n",
       "      <td>RO</td>\n",
       "      <td>1 - Norte</td>\n",
       "      <td>Não possui estrutura</td>\n",
       "      <td>Sim</td>\n",
       "      <td>Não</td>\n",
       "      <td>Não</td>\n",
       "      <td>Sim</td>\n",
       "    </tr>\n",
       "    <tr>\n",
       "      <th>1</th>\n",
       "      <td>1100023</td>\n",
       "      <td>RO</td>\n",
       "      <td>1 - Norte</td>\n",
       "      <td>Setor subordinado a outra secretaria</td>\n",
       "      <td>Sim</td>\n",
       "      <td>Não</td>\n",
       "      <td>Não</td>\n",
       "      <td>Sim</td>\n",
       "    </tr>\n",
       "    <tr>\n",
       "      <th>2</th>\n",
       "      <td>1100031</td>\n",
       "      <td>RO</td>\n",
       "      <td>1 - Norte</td>\n",
       "      <td>Não possui estrutura</td>\n",
       "      <td>Sim</td>\n",
       "      <td>Não</td>\n",
       "      <td>Sim</td>\n",
       "      <td>Sim</td>\n",
       "    </tr>\n",
       "    <tr>\n",
       "      <th>3</th>\n",
       "      <td>1100049</td>\n",
       "      <td>RO</td>\n",
       "      <td>1 - Norte</td>\n",
       "      <td>Setor subordinado diretamente à chefia do Exec...</td>\n",
       "      <td>Sim</td>\n",
       "      <td>Não</td>\n",
       "      <td>Sim</td>\n",
       "      <td>Não</td>\n",
       "    </tr>\n",
       "    <tr>\n",
       "      <th>4</th>\n",
       "      <td>1100056</td>\n",
       "      <td>RO</td>\n",
       "      <td>1 - Norte</td>\n",
       "      <td>Não possui estrutura</td>\n",
       "      <td>Sim</td>\n",
       "      <td>Sim</td>\n",
       "      <td>Não</td>\n",
       "      <td>Sim</td>\n",
       "    </tr>\n",
       "    <tr>\n",
       "      <th>...</th>\n",
       "      <td>...</td>\n",
       "      <td>...</td>\n",
       "      <td>...</td>\n",
       "      <td>...</td>\n",
       "      <td>...</td>\n",
       "      <td>...</td>\n",
       "      <td>...</td>\n",
       "      <td>...</td>\n",
       "    </tr>\n",
       "    <tr>\n",
       "      <th>5565</th>\n",
       "      <td>5222005</td>\n",
       "      <td>GO</td>\n",
       "      <td>5 - Centro-Oeste</td>\n",
       "      <td>Não possui estrutura</td>\n",
       "      <td>Não</td>\n",
       "      <td>-</td>\n",
       "      <td>-</td>\n",
       "      <td>-</td>\n",
       "    </tr>\n",
       "    <tr>\n",
       "      <th>5566</th>\n",
       "      <td>5222054</td>\n",
       "      <td>GO</td>\n",
       "      <td>5 - Centro-Oeste</td>\n",
       "      <td>Não possui estrutura</td>\n",
       "      <td>Não</td>\n",
       "      <td>-</td>\n",
       "      <td>-</td>\n",
       "      <td>-</td>\n",
       "    </tr>\n",
       "    <tr>\n",
       "      <th>5567</th>\n",
       "      <td>5222203</td>\n",
       "      <td>GO</td>\n",
       "      <td>5 - Centro-Oeste</td>\n",
       "      <td>Não possui estrutura</td>\n",
       "      <td>Sim</td>\n",
       "      <td>Não</td>\n",
       "      <td>Sim</td>\n",
       "      <td>Não</td>\n",
       "    </tr>\n",
       "    <tr>\n",
       "      <th>5568</th>\n",
       "      <td>5222302</td>\n",
       "      <td>GO</td>\n",
       "      <td>5 - Centro-Oeste</td>\n",
       "      <td>Setor subordinado a outra secretaria</td>\n",
       "      <td>Sim</td>\n",
       "      <td>Não</td>\n",
       "      <td>Sim</td>\n",
       "      <td>Não</td>\n",
       "    </tr>\n",
       "    <tr>\n",
       "      <th>5569</th>\n",
       "      <td>5300108</td>\n",
       "      <td>DF</td>\n",
       "      <td>5 - Centro-Oeste</td>\n",
       "      <td>Setor subordinado a outra secretaria</td>\n",
       "      <td>Sim</td>\n",
       "      <td>Sim</td>\n",
       "      <td>Não</td>\n",
       "      <td>Sim</td>\n",
       "    </tr>\n",
       "  </tbody>\n",
       "</table>\n",
       "<p>5570 rows × 8 columns</p>\n",
       "</div>"
      ],
      "text/plain": [
       "       CodMun  UF            Regiao  \\\n",
       "0     1100015  RO         1 - Norte   \n",
       "1     1100023  RO         1 - Norte   \n",
       "2     1100031  RO         1 - Norte   \n",
       "3     1100049  RO         1 - Norte   \n",
       "4     1100056  RO         1 - Norte   \n",
       "...       ...  ..               ...   \n",
       "5565  5222005  GO  5 - Centro-Oeste   \n",
       "5566  5222054  GO  5 - Centro-Oeste   \n",
       "5567  5222203  GO  5 - Centro-Oeste   \n",
       "5568  5222302  GO  5 - Centro-Oeste   \n",
       "5569  5300108  DF  5 - Centro-Oeste   \n",
       "\n",
       "                                                 MSAN01 MSAN1712 MSAN171211  \\\n",
       "0                                  Não possui estrutura      Sim        Não   \n",
       "1                  Setor subordinado a outra secretaria      Sim        Não   \n",
       "2                                  Não possui estrutura      Sim        Não   \n",
       "3     Setor subordinado diretamente à chefia do Exec...      Sim        Não   \n",
       "4                                  Não possui estrutura      Sim        Sim   \n",
       "...                                                 ...      ...        ...   \n",
       "5565                               Não possui estrutura      Não          -   \n",
       "5566                               Não possui estrutura      Não          -   \n",
       "5567                               Não possui estrutura      Sim        Não   \n",
       "5568               Setor subordinado a outra secretaria      Sim        Não   \n",
       "5569               Setor subordinado a outra secretaria      Sim        Sim   \n",
       "\n",
       "     MSAN171212 MSAN171213  \n",
       "0           Não        Sim  \n",
       "1           Não        Sim  \n",
       "2           Sim        Sim  \n",
       "3           Sim        Não  \n",
       "4           Não        Sim  \n",
       "...         ...        ...  \n",
       "5565          -          -  \n",
       "5566          -          -  \n",
       "5567        Sim        Não  \n",
       "5568        Sim        Não  \n",
       "5569        Não        Sim  \n",
       "\n",
       "[5570 rows x 8 columns]"
      ]
     },
     "execution_count": 30,
     "metadata": {},
     "output_type": "execute_result"
    }
   ],
   "source": [
    "#Exibindo a base de dados tratada\n",
    "data_modificado"
   ]
  },
  {
   "cell_type": "code",
   "execution_count": 32,
   "id": "f3295c5b-d8ca-4236-bec4-663084b25bed",
   "metadata": {},
   "outputs": [],
   "source": [
    "#Removendo os números que aparecem na região\n",
    "data_modificado['Regiao'] = data_modificado['Regiao'].str.split('-').str[1]"
   ]
  },
  {
   "cell_type": "code",
   "execution_count": 34,
   "id": "bfd66e8f-9a18-4568-9929-738b7f8137b1",
   "metadata": {},
   "outputs": [
    {
     "data": {
      "text/html": [
       "<div>\n",
       "<style scoped>\n",
       "    .dataframe tbody tr th:only-of-type {\n",
       "        vertical-align: middle;\n",
       "    }\n",
       "\n",
       "    .dataframe tbody tr th {\n",
       "        vertical-align: top;\n",
       "    }\n",
       "\n",
       "    .dataframe thead th {\n",
       "        text-align: right;\n",
       "    }\n",
       "</style>\n",
       "<table border=\"1\" class=\"dataframe\">\n",
       "  <thead>\n",
       "    <tr style=\"text-align: right;\">\n",
       "      <th></th>\n",
       "      <th>CodMun</th>\n",
       "      <th>UF</th>\n",
       "      <th>Regiao</th>\n",
       "      <th>MSAN01</th>\n",
       "      <th>MSAN1712</th>\n",
       "      <th>MSAN171211</th>\n",
       "      <th>MSAN171212</th>\n",
       "      <th>MSAN171213</th>\n",
       "    </tr>\n",
       "  </thead>\n",
       "  <tbody>\n",
       "    <tr>\n",
       "      <th>0</th>\n",
       "      <td>1100015</td>\n",
       "      <td>RO</td>\n",
       "      <td>Norte</td>\n",
       "      <td>Não possui estrutura</td>\n",
       "      <td>Sim</td>\n",
       "      <td>Não</td>\n",
       "      <td>Não</td>\n",
       "      <td>Sim</td>\n",
       "    </tr>\n",
       "    <tr>\n",
       "      <th>1</th>\n",
       "      <td>1100023</td>\n",
       "      <td>RO</td>\n",
       "      <td>Norte</td>\n",
       "      <td>Setor subordinado a outra secretaria</td>\n",
       "      <td>Sim</td>\n",
       "      <td>Não</td>\n",
       "      <td>Não</td>\n",
       "      <td>Sim</td>\n",
       "    </tr>\n",
       "    <tr>\n",
       "      <th>2</th>\n",
       "      <td>1100031</td>\n",
       "      <td>RO</td>\n",
       "      <td>Norte</td>\n",
       "      <td>Não possui estrutura</td>\n",
       "      <td>Sim</td>\n",
       "      <td>Não</td>\n",
       "      <td>Sim</td>\n",
       "      <td>Sim</td>\n",
       "    </tr>\n",
       "    <tr>\n",
       "      <th>3</th>\n",
       "      <td>1100049</td>\n",
       "      <td>RO</td>\n",
       "      <td>Norte</td>\n",
       "      <td>Setor subordinado diretamente à chefia do Exec...</td>\n",
       "      <td>Sim</td>\n",
       "      <td>Não</td>\n",
       "      <td>Sim</td>\n",
       "      <td>Não</td>\n",
       "    </tr>\n",
       "    <tr>\n",
       "      <th>4</th>\n",
       "      <td>1100056</td>\n",
       "      <td>RO</td>\n",
       "      <td>Norte</td>\n",
       "      <td>Não possui estrutura</td>\n",
       "      <td>Sim</td>\n",
       "      <td>Sim</td>\n",
       "      <td>Não</td>\n",
       "      <td>Sim</td>\n",
       "    </tr>\n",
       "    <tr>\n",
       "      <th>...</th>\n",
       "      <td>...</td>\n",
       "      <td>...</td>\n",
       "      <td>...</td>\n",
       "      <td>...</td>\n",
       "      <td>...</td>\n",
       "      <td>...</td>\n",
       "      <td>...</td>\n",
       "      <td>...</td>\n",
       "    </tr>\n",
       "    <tr>\n",
       "      <th>5565</th>\n",
       "      <td>5222005</td>\n",
       "      <td>GO</td>\n",
       "      <td>Centro</td>\n",
       "      <td>Não possui estrutura</td>\n",
       "      <td>Não</td>\n",
       "      <td>-</td>\n",
       "      <td>-</td>\n",
       "      <td>-</td>\n",
       "    </tr>\n",
       "    <tr>\n",
       "      <th>5566</th>\n",
       "      <td>5222054</td>\n",
       "      <td>GO</td>\n",
       "      <td>Centro</td>\n",
       "      <td>Não possui estrutura</td>\n",
       "      <td>Não</td>\n",
       "      <td>-</td>\n",
       "      <td>-</td>\n",
       "      <td>-</td>\n",
       "    </tr>\n",
       "    <tr>\n",
       "      <th>5567</th>\n",
       "      <td>5222203</td>\n",
       "      <td>GO</td>\n",
       "      <td>Centro</td>\n",
       "      <td>Não possui estrutura</td>\n",
       "      <td>Sim</td>\n",
       "      <td>Não</td>\n",
       "      <td>Sim</td>\n",
       "      <td>Não</td>\n",
       "    </tr>\n",
       "    <tr>\n",
       "      <th>5568</th>\n",
       "      <td>5222302</td>\n",
       "      <td>GO</td>\n",
       "      <td>Centro</td>\n",
       "      <td>Setor subordinado a outra secretaria</td>\n",
       "      <td>Sim</td>\n",
       "      <td>Não</td>\n",
       "      <td>Sim</td>\n",
       "      <td>Não</td>\n",
       "    </tr>\n",
       "    <tr>\n",
       "      <th>5569</th>\n",
       "      <td>5300108</td>\n",
       "      <td>DF</td>\n",
       "      <td>Centro</td>\n",
       "      <td>Setor subordinado a outra secretaria</td>\n",
       "      <td>Sim</td>\n",
       "      <td>Sim</td>\n",
       "      <td>Não</td>\n",
       "      <td>Sim</td>\n",
       "    </tr>\n",
       "  </tbody>\n",
       "</table>\n",
       "<p>5570 rows × 8 columns</p>\n",
       "</div>"
      ],
      "text/plain": [
       "       CodMun  UF   Regiao                                             MSAN01  \\\n",
       "0     1100015  RO    Norte                               Não possui estrutura   \n",
       "1     1100023  RO    Norte               Setor subordinado a outra secretaria   \n",
       "2     1100031  RO    Norte                               Não possui estrutura   \n",
       "3     1100049  RO    Norte  Setor subordinado diretamente à chefia do Exec...   \n",
       "4     1100056  RO    Norte                               Não possui estrutura   \n",
       "...       ...  ..      ...                                                ...   \n",
       "5565  5222005  GO   Centro                               Não possui estrutura   \n",
       "5566  5222054  GO   Centro                               Não possui estrutura   \n",
       "5567  5222203  GO   Centro                               Não possui estrutura   \n",
       "5568  5222302  GO   Centro               Setor subordinado a outra secretaria   \n",
       "5569  5300108  DF   Centro               Setor subordinado a outra secretaria   \n",
       "\n",
       "     MSAN1712 MSAN171211 MSAN171212 MSAN171213  \n",
       "0         Sim        Não        Não        Sim  \n",
       "1         Sim        Não        Não        Sim  \n",
       "2         Sim        Não        Sim        Sim  \n",
       "3         Sim        Não        Sim        Não  \n",
       "4         Sim        Sim        Não        Sim  \n",
       "...       ...        ...        ...        ...  \n",
       "5565      Não          -          -          -  \n",
       "5566      Não          -          -          -  \n",
       "5567      Sim        Não        Sim        Não  \n",
       "5568      Sim        Não        Sim        Não  \n",
       "5569      Sim        Sim        Não        Sim  \n",
       "\n",
       "[5570 rows x 8 columns]"
      ]
     },
     "execution_count": 34,
     "metadata": {},
     "output_type": "execute_result"
    }
   ],
   "source": [
    "data_modificado"
   ]
  },
  {
   "cell_type": "code",
   "execution_count": 40,
   "id": "1ef33e8b-179d-482a-9fa8-589dec67c809",
   "metadata": {},
   "outputs": [],
   "source": [
    "#Mudando os nomes das colunas MSAN01, MSAN1712, MSAN171211, MSAN171212, MSAN171213\n",
    "data_modificado = data_modificado.rename(columns={'MSAN01':'orgao_gestor', 'MSAN1712':'recebe_recurso', 'MSAN171211':'recurso_federal', 'MSAN171212' : 'recurso_estadual', 'MSAN171213': 'recurso_municipal'})"
   ]
  },
  {
   "cell_type": "code",
   "execution_count": 42,
   "id": "a5e355fd-d5a3-4ae7-b523-4816fcb72bc3",
   "metadata": {},
   "outputs": [
    {
     "data": {
      "text/html": [
       "<div>\n",
       "<style scoped>\n",
       "    .dataframe tbody tr th:only-of-type {\n",
       "        vertical-align: middle;\n",
       "    }\n",
       "\n",
       "    .dataframe tbody tr th {\n",
       "        vertical-align: top;\n",
       "    }\n",
       "\n",
       "    .dataframe thead th {\n",
       "        text-align: right;\n",
       "    }\n",
       "</style>\n",
       "<table border=\"1\" class=\"dataframe\">\n",
       "  <thead>\n",
       "    <tr style=\"text-align: right;\">\n",
       "      <th></th>\n",
       "      <th>CodMun</th>\n",
       "      <th>UF</th>\n",
       "      <th>Regiao</th>\n",
       "      <th>orgao_gestor</th>\n",
       "      <th>recebe_recurso</th>\n",
       "      <th>recurso_federal</th>\n",
       "      <th>recurso_estadual</th>\n",
       "      <th>recurso_municipal</th>\n",
       "    </tr>\n",
       "  </thead>\n",
       "  <tbody>\n",
       "    <tr>\n",
       "      <th>0</th>\n",
       "      <td>1100015</td>\n",
       "      <td>RO</td>\n",
       "      <td>Norte</td>\n",
       "      <td>Não possui estrutura</td>\n",
       "      <td>Sim</td>\n",
       "      <td>Não</td>\n",
       "      <td>Não</td>\n",
       "      <td>Sim</td>\n",
       "    </tr>\n",
       "    <tr>\n",
       "      <th>1</th>\n",
       "      <td>1100023</td>\n",
       "      <td>RO</td>\n",
       "      <td>Norte</td>\n",
       "      <td>Setor subordinado a outra secretaria</td>\n",
       "      <td>Sim</td>\n",
       "      <td>Não</td>\n",
       "      <td>Não</td>\n",
       "      <td>Sim</td>\n",
       "    </tr>\n",
       "    <tr>\n",
       "      <th>2</th>\n",
       "      <td>1100031</td>\n",
       "      <td>RO</td>\n",
       "      <td>Norte</td>\n",
       "      <td>Não possui estrutura</td>\n",
       "      <td>Sim</td>\n",
       "      <td>Não</td>\n",
       "      <td>Sim</td>\n",
       "      <td>Sim</td>\n",
       "    </tr>\n",
       "    <tr>\n",
       "      <th>3</th>\n",
       "      <td>1100049</td>\n",
       "      <td>RO</td>\n",
       "      <td>Norte</td>\n",
       "      <td>Setor subordinado diretamente à chefia do Exec...</td>\n",
       "      <td>Sim</td>\n",
       "      <td>Não</td>\n",
       "      <td>Sim</td>\n",
       "      <td>Não</td>\n",
       "    </tr>\n",
       "    <tr>\n",
       "      <th>4</th>\n",
       "      <td>1100056</td>\n",
       "      <td>RO</td>\n",
       "      <td>Norte</td>\n",
       "      <td>Não possui estrutura</td>\n",
       "      <td>Sim</td>\n",
       "      <td>Sim</td>\n",
       "      <td>Não</td>\n",
       "      <td>Sim</td>\n",
       "    </tr>\n",
       "    <tr>\n",
       "      <th>...</th>\n",
       "      <td>...</td>\n",
       "      <td>...</td>\n",
       "      <td>...</td>\n",
       "      <td>...</td>\n",
       "      <td>...</td>\n",
       "      <td>...</td>\n",
       "      <td>...</td>\n",
       "      <td>...</td>\n",
       "    </tr>\n",
       "    <tr>\n",
       "      <th>5565</th>\n",
       "      <td>5222005</td>\n",
       "      <td>GO</td>\n",
       "      <td>Centro</td>\n",
       "      <td>Não possui estrutura</td>\n",
       "      <td>Não</td>\n",
       "      <td>-</td>\n",
       "      <td>-</td>\n",
       "      <td>-</td>\n",
       "    </tr>\n",
       "    <tr>\n",
       "      <th>5566</th>\n",
       "      <td>5222054</td>\n",
       "      <td>GO</td>\n",
       "      <td>Centro</td>\n",
       "      <td>Não possui estrutura</td>\n",
       "      <td>Não</td>\n",
       "      <td>-</td>\n",
       "      <td>-</td>\n",
       "      <td>-</td>\n",
       "    </tr>\n",
       "    <tr>\n",
       "      <th>5567</th>\n",
       "      <td>5222203</td>\n",
       "      <td>GO</td>\n",
       "      <td>Centro</td>\n",
       "      <td>Não possui estrutura</td>\n",
       "      <td>Sim</td>\n",
       "      <td>Não</td>\n",
       "      <td>Sim</td>\n",
       "      <td>Não</td>\n",
       "    </tr>\n",
       "    <tr>\n",
       "      <th>5568</th>\n",
       "      <td>5222302</td>\n",
       "      <td>GO</td>\n",
       "      <td>Centro</td>\n",
       "      <td>Setor subordinado a outra secretaria</td>\n",
       "      <td>Sim</td>\n",
       "      <td>Não</td>\n",
       "      <td>Sim</td>\n",
       "      <td>Não</td>\n",
       "    </tr>\n",
       "    <tr>\n",
       "      <th>5569</th>\n",
       "      <td>5300108</td>\n",
       "      <td>DF</td>\n",
       "      <td>Centro</td>\n",
       "      <td>Setor subordinado a outra secretaria</td>\n",
       "      <td>Sim</td>\n",
       "      <td>Sim</td>\n",
       "      <td>Não</td>\n",
       "      <td>Sim</td>\n",
       "    </tr>\n",
       "  </tbody>\n",
       "</table>\n",
       "<p>5570 rows × 8 columns</p>\n",
       "</div>"
      ],
      "text/plain": [
       "       CodMun  UF   Regiao                                       orgao_gestor  \\\n",
       "0     1100015  RO    Norte                               Não possui estrutura   \n",
       "1     1100023  RO    Norte               Setor subordinado a outra secretaria   \n",
       "2     1100031  RO    Norte                               Não possui estrutura   \n",
       "3     1100049  RO    Norte  Setor subordinado diretamente à chefia do Exec...   \n",
       "4     1100056  RO    Norte                               Não possui estrutura   \n",
       "...       ...  ..      ...                                                ...   \n",
       "5565  5222005  GO   Centro                               Não possui estrutura   \n",
       "5566  5222054  GO   Centro                               Não possui estrutura   \n",
       "5567  5222203  GO   Centro                               Não possui estrutura   \n",
       "5568  5222302  GO   Centro               Setor subordinado a outra secretaria   \n",
       "5569  5300108  DF   Centro               Setor subordinado a outra secretaria   \n",
       "\n",
       "     recebe_recurso recurso_federal recurso_estadual recurso_municipal  \n",
       "0               Sim             Não              Não               Sim  \n",
       "1               Sim             Não              Não               Sim  \n",
       "2               Sim             Não              Sim               Sim  \n",
       "3               Sim             Não              Sim               Não  \n",
       "4               Sim             Sim              Não               Sim  \n",
       "...             ...             ...              ...               ...  \n",
       "5565            Não               -                -                 -  \n",
       "5566            Não               -                -                 -  \n",
       "5567            Sim             Não              Sim               Não  \n",
       "5568            Sim             Não              Sim               Não  \n",
       "5569            Sim             Sim              Não               Sim  \n",
       "\n",
       "[5570 rows x 8 columns]"
      ]
     },
     "execution_count": 42,
     "metadata": {},
     "output_type": "execute_result"
    }
   ],
   "source": [
    "data_modificado"
   ]
  },
  {
   "cell_type": "markdown",
   "id": "b093c1d1-fb9a-4644-979e-46bec6625b28",
   "metadata": {},
   "source": [
    "### Abordagem para facilitar a análise quantitativa da coluna: orgao_gestor\n",
    "<hr>\n",
    "A coluna <stron>\"orgao_gestor\"</stron> apresenta diversas informações categóricas que se repetem, o que pode dificultar análises quantitativas. Para simplificar esse processo, cada categoria será mapeada para um valor numérico, conforme a escala definida abaixo:\n",
    "\n",
    "\n",
    "<br>\n",
    "-1: <strong> Não possui estrutura</strong>\n",
    "<br>\n",
    "<br>\n",
    "0: <strong> Setor subordinado a outra secretaria</strong>\n",
    "<br>\n",
    "<br>\n",
    "1: <strong> Câmara Intersetorial de Segurança Alimentar e Nutricional</strong>\n",
    "<br>\n",
    "<br>\n",
    "2: <strong> Secretaria municipal em conjunto com outras políticas setoriais</strong>\n",
    "<br>\n",
    "<br>\n",
    "3: <strong> Setor subordinado diretamente à chefia do Executivo</strong>\n",
    "<br>\n",
    "<br>\n",
    "4: <strong> Secretaria municipal exclusiva</strong>\n",
    "<br>\n",
    "<br>\n",
    "5: <strong> Não informou</strong>\n",
    "<br>\n",
    "<br>\n",
    "6:<strong> Órgão da administração indireta</strong>\n",
    "<br>\n",
    "<br>\n",
    "\n",
    "Essa transformação facilitará a manipulação e análise dos dados, permitindo identificar padrões e realizar comparações de forma mais eficiente."
   ]
  },
  {
   "cell_type": "code",
   "execution_count": 44,
   "id": "e4c733ec-bc0e-48fe-b2d5-6a859b9e3938",
   "metadata": {},
   "outputs": [
    {
     "name": "stdout",
     "output_type": "stream",
     "text": [
      "orgao_gestor\n",
      "Não possui estrutura                                               2765\n",
      "Setor subordinado a outra secretaria                               2433\n",
      "Câmara Intersetorial de Segurança Alimentar e Nutricional           130\n",
      "Secretaria municipal em conjunto com outras políticas setoriais     115\n",
      "Setor subordinado diretamente à chefia do Executivo                 101\n",
      "Secretaria municipal exclusiva                                       18\n",
      "Não informou                                                          6\n",
      "Órgão da administração indireta                                       2\n",
      "Name: count, dtype: int64\n"
     ]
    }
   ],
   "source": [
    "repetidos_orgao_gestor = data_modificado['orgao_gestor'].value_counts()\n",
    "print(repetidos_orgao_gestor)"
   ]
  },
  {
   "cell_type": "code",
   "execution_count": 46,
   "id": "b88dd6c5-0d31-4a57-8fa6-b06fd5eddb91",
   "metadata": {},
   "outputs": [
    {
     "name": "stdout",
     "output_type": "stream",
     "text": [
      "0   -1\n",
      "1    0\n",
      "2   -1\n",
      "3    3\n",
      "4   -1\n",
      "Name: orgao_gestor, dtype: int64\n"
     ]
    },
    {
     "name": "stderr",
     "output_type": "stream",
     "text": [
      "C:\\Users\\Suerdo\\AppData\\Local\\Temp\\ipykernel_3972\\1579804662.py:14: FutureWarning: Downcasting behavior in `replace` is deprecated and will be removed in a future version. To retain the old behavior, explicitly call `result.infer_objects(copy=False)`. To opt-in to the future behavior, set `pd.set_option('future.no_silent_downcasting', True)`\n",
      "  data_modificado['orgao_gestor'] = data_modificado['orgao_gestor'].replace(mapping)\n"
     ]
    }
   ],
   "source": [
    "# Definir o mapeamento\n",
    "mapping = {\n",
    "    \"Não possui estrutura\": -1,\n",
    "    \"Setor subordinado a outra secretaria\": 0,\n",
    "    \"Câmara Intersetorial de Segurança Alimentar e Nutricional\": 1,\n",
    "    \"Secretaria municipal em conjunto com outras políticas setoriais\": 2,\n",
    "    \"Setor subordinado diretamente à chefia do Executivo\": 3,\n",
    "    \"Secretaria municipal exclusiva\": 4,\n",
    "    \"Não informou\": 5,\n",
    "    \"Órgão da administração indireta\": 6\n",
    "}\n",
    "\n",
    "# Substituir os valores na mesma coluna\n",
    "data_modificado['orgao_gestor'] = data_modificado['orgao_gestor'].replace(mapping)\n",
    "\n",
    "# Visualizar o resultado\n",
    "print(data_modificado['orgao_gestor'].head())"
   ]
  },
  {
   "cell_type": "code",
   "execution_count": 48,
   "id": "d580663c-12b8-443e-b2a4-de43d9514a2f",
   "metadata": {},
   "outputs": [
    {
     "data": {
      "text/html": [
       "<div>\n",
       "<style scoped>\n",
       "    .dataframe tbody tr th:only-of-type {\n",
       "        vertical-align: middle;\n",
       "    }\n",
       "\n",
       "    .dataframe tbody tr th {\n",
       "        vertical-align: top;\n",
       "    }\n",
       "\n",
       "    .dataframe thead th {\n",
       "        text-align: right;\n",
       "    }\n",
       "</style>\n",
       "<table border=\"1\" class=\"dataframe\">\n",
       "  <thead>\n",
       "    <tr style=\"text-align: right;\">\n",
       "      <th></th>\n",
       "      <th>CodMun</th>\n",
       "      <th>UF</th>\n",
       "      <th>Regiao</th>\n",
       "      <th>orgao_gestor</th>\n",
       "      <th>recebe_recurso</th>\n",
       "      <th>recurso_federal</th>\n",
       "      <th>recurso_estadual</th>\n",
       "      <th>recurso_municipal</th>\n",
       "    </tr>\n",
       "  </thead>\n",
       "  <tbody>\n",
       "    <tr>\n",
       "      <th>0</th>\n",
       "      <td>1100015</td>\n",
       "      <td>RO</td>\n",
       "      <td>Norte</td>\n",
       "      <td>-1</td>\n",
       "      <td>Sim</td>\n",
       "      <td>Não</td>\n",
       "      <td>Não</td>\n",
       "      <td>Sim</td>\n",
       "    </tr>\n",
       "    <tr>\n",
       "      <th>1</th>\n",
       "      <td>1100023</td>\n",
       "      <td>RO</td>\n",
       "      <td>Norte</td>\n",
       "      <td>0</td>\n",
       "      <td>Sim</td>\n",
       "      <td>Não</td>\n",
       "      <td>Não</td>\n",
       "      <td>Sim</td>\n",
       "    </tr>\n",
       "    <tr>\n",
       "      <th>2</th>\n",
       "      <td>1100031</td>\n",
       "      <td>RO</td>\n",
       "      <td>Norte</td>\n",
       "      <td>-1</td>\n",
       "      <td>Sim</td>\n",
       "      <td>Não</td>\n",
       "      <td>Sim</td>\n",
       "      <td>Sim</td>\n",
       "    </tr>\n",
       "    <tr>\n",
       "      <th>3</th>\n",
       "      <td>1100049</td>\n",
       "      <td>RO</td>\n",
       "      <td>Norte</td>\n",
       "      <td>3</td>\n",
       "      <td>Sim</td>\n",
       "      <td>Não</td>\n",
       "      <td>Sim</td>\n",
       "      <td>Não</td>\n",
       "    </tr>\n",
       "    <tr>\n",
       "      <th>4</th>\n",
       "      <td>1100056</td>\n",
       "      <td>RO</td>\n",
       "      <td>Norte</td>\n",
       "      <td>-1</td>\n",
       "      <td>Sim</td>\n",
       "      <td>Sim</td>\n",
       "      <td>Não</td>\n",
       "      <td>Sim</td>\n",
       "    </tr>\n",
       "    <tr>\n",
       "      <th>...</th>\n",
       "      <td>...</td>\n",
       "      <td>...</td>\n",
       "      <td>...</td>\n",
       "      <td>...</td>\n",
       "      <td>...</td>\n",
       "      <td>...</td>\n",
       "      <td>...</td>\n",
       "      <td>...</td>\n",
       "    </tr>\n",
       "    <tr>\n",
       "      <th>5565</th>\n",
       "      <td>5222005</td>\n",
       "      <td>GO</td>\n",
       "      <td>Centro</td>\n",
       "      <td>-1</td>\n",
       "      <td>Não</td>\n",
       "      <td>-</td>\n",
       "      <td>-</td>\n",
       "      <td>-</td>\n",
       "    </tr>\n",
       "    <tr>\n",
       "      <th>5566</th>\n",
       "      <td>5222054</td>\n",
       "      <td>GO</td>\n",
       "      <td>Centro</td>\n",
       "      <td>-1</td>\n",
       "      <td>Não</td>\n",
       "      <td>-</td>\n",
       "      <td>-</td>\n",
       "      <td>-</td>\n",
       "    </tr>\n",
       "    <tr>\n",
       "      <th>5567</th>\n",
       "      <td>5222203</td>\n",
       "      <td>GO</td>\n",
       "      <td>Centro</td>\n",
       "      <td>-1</td>\n",
       "      <td>Sim</td>\n",
       "      <td>Não</td>\n",
       "      <td>Sim</td>\n",
       "      <td>Não</td>\n",
       "    </tr>\n",
       "    <tr>\n",
       "      <th>5568</th>\n",
       "      <td>5222302</td>\n",
       "      <td>GO</td>\n",
       "      <td>Centro</td>\n",
       "      <td>0</td>\n",
       "      <td>Sim</td>\n",
       "      <td>Não</td>\n",
       "      <td>Sim</td>\n",
       "      <td>Não</td>\n",
       "    </tr>\n",
       "    <tr>\n",
       "      <th>5569</th>\n",
       "      <td>5300108</td>\n",
       "      <td>DF</td>\n",
       "      <td>Centro</td>\n",
       "      <td>0</td>\n",
       "      <td>Sim</td>\n",
       "      <td>Sim</td>\n",
       "      <td>Não</td>\n",
       "      <td>Sim</td>\n",
       "    </tr>\n",
       "  </tbody>\n",
       "</table>\n",
       "<p>5570 rows × 8 columns</p>\n",
       "</div>"
      ],
      "text/plain": [
       "       CodMun  UF   Regiao  orgao_gestor recebe_recurso recurso_federal  \\\n",
       "0     1100015  RO    Norte            -1            Sim             Não   \n",
       "1     1100023  RO    Norte             0            Sim             Não   \n",
       "2     1100031  RO    Norte            -1            Sim             Não   \n",
       "3     1100049  RO    Norte             3            Sim             Não   \n",
       "4     1100056  RO    Norte            -1            Sim             Sim   \n",
       "...       ...  ..      ...           ...            ...             ...   \n",
       "5565  5222005  GO   Centro            -1            Não               -   \n",
       "5566  5222054  GO   Centro            -1            Não               -   \n",
       "5567  5222203  GO   Centro            -1            Sim             Não   \n",
       "5568  5222302  GO   Centro             0            Sim             Não   \n",
       "5569  5300108  DF   Centro             0            Sim             Sim   \n",
       "\n",
       "     recurso_estadual recurso_municipal  \n",
       "0                 Não               Sim  \n",
       "1                 Não               Sim  \n",
       "2                 Sim               Sim  \n",
       "3                 Sim               Não  \n",
       "4                 Não               Sim  \n",
       "...               ...               ...  \n",
       "5565                -                 -  \n",
       "5566                -                 -  \n",
       "5567              Sim               Não  \n",
       "5568              Sim               Não  \n",
       "5569              Não               Sim  \n",
       "\n",
       "[5570 rows x 8 columns]"
      ]
     },
     "execution_count": 48,
     "metadata": {},
     "output_type": "execute_result"
    }
   ],
   "source": [
    "data_modificado"
   ]
  },
  {
   "cell_type": "code",
   "execution_count": 50,
   "id": "28a9fe83-3c91-4c58-aab2-8f26aeef4896",
   "metadata": {},
   "outputs": [
    {
     "name": "stdout",
     "output_type": "stream",
     "text": [
      "int64\n"
     ]
    }
   ],
   "source": [
    "#Nosso orgão gestor agora é representado por um valor inteiro que começa de: -1 e vai até 6. \n",
    "print(data_modificado['orgao_gestor'].dtype)"
   ]
  },
  {
   "cell_type": "markdown",
   "id": "6a0689fe-354e-4a62-b2db-092e3e179d62",
   "metadata": {},
   "source": [
    "### Substituição do \"-\" por \"Sem dados\" nas colunas do nosso df\n",
    "<hr>"
   ]
  },
  {
   "cell_type": "code",
   "execution_count": 52,
   "id": "9e8378ea-a302-43cd-a3ca-29e93b3bc60d",
   "metadata": {},
   "outputs": [],
   "source": [
    "data_modificado.replace('-', 'Sem Dados', inplace=True)"
   ]
  },
  {
   "cell_type": "code",
   "execution_count": 54,
   "id": "a5dc8fc9-d52a-4c06-94a6-1dd347578617",
   "metadata": {},
   "outputs": [
    {
     "data": {
      "text/html": [
       "<div>\n",
       "<style scoped>\n",
       "    .dataframe tbody tr th:only-of-type {\n",
       "        vertical-align: middle;\n",
       "    }\n",
       "\n",
       "    .dataframe tbody tr th {\n",
       "        vertical-align: top;\n",
       "    }\n",
       "\n",
       "    .dataframe thead th {\n",
       "        text-align: right;\n",
       "    }\n",
       "</style>\n",
       "<table border=\"1\" class=\"dataframe\">\n",
       "  <thead>\n",
       "    <tr style=\"text-align: right;\">\n",
       "      <th></th>\n",
       "      <th>CodMun</th>\n",
       "      <th>UF</th>\n",
       "      <th>Regiao</th>\n",
       "      <th>orgao_gestor</th>\n",
       "      <th>recebe_recurso</th>\n",
       "      <th>recurso_federal</th>\n",
       "      <th>recurso_estadual</th>\n",
       "      <th>recurso_municipal</th>\n",
       "    </tr>\n",
       "  </thead>\n",
       "  <tbody>\n",
       "    <tr>\n",
       "      <th>0</th>\n",
       "      <td>1100015</td>\n",
       "      <td>RO</td>\n",
       "      <td>Norte</td>\n",
       "      <td>-1</td>\n",
       "      <td>Sim</td>\n",
       "      <td>Não</td>\n",
       "      <td>Não</td>\n",
       "      <td>Sim</td>\n",
       "    </tr>\n",
       "    <tr>\n",
       "      <th>1</th>\n",
       "      <td>1100023</td>\n",
       "      <td>RO</td>\n",
       "      <td>Norte</td>\n",
       "      <td>0</td>\n",
       "      <td>Sim</td>\n",
       "      <td>Não</td>\n",
       "      <td>Não</td>\n",
       "      <td>Sim</td>\n",
       "    </tr>\n",
       "    <tr>\n",
       "      <th>2</th>\n",
       "      <td>1100031</td>\n",
       "      <td>RO</td>\n",
       "      <td>Norte</td>\n",
       "      <td>-1</td>\n",
       "      <td>Sim</td>\n",
       "      <td>Não</td>\n",
       "      <td>Sim</td>\n",
       "      <td>Sim</td>\n",
       "    </tr>\n",
       "    <tr>\n",
       "      <th>3</th>\n",
       "      <td>1100049</td>\n",
       "      <td>RO</td>\n",
       "      <td>Norte</td>\n",
       "      <td>3</td>\n",
       "      <td>Sim</td>\n",
       "      <td>Não</td>\n",
       "      <td>Sim</td>\n",
       "      <td>Não</td>\n",
       "    </tr>\n",
       "    <tr>\n",
       "      <th>4</th>\n",
       "      <td>1100056</td>\n",
       "      <td>RO</td>\n",
       "      <td>Norte</td>\n",
       "      <td>-1</td>\n",
       "      <td>Sim</td>\n",
       "      <td>Sim</td>\n",
       "      <td>Não</td>\n",
       "      <td>Sim</td>\n",
       "    </tr>\n",
       "    <tr>\n",
       "      <th>...</th>\n",
       "      <td>...</td>\n",
       "      <td>...</td>\n",
       "      <td>...</td>\n",
       "      <td>...</td>\n",
       "      <td>...</td>\n",
       "      <td>...</td>\n",
       "      <td>...</td>\n",
       "      <td>...</td>\n",
       "    </tr>\n",
       "    <tr>\n",
       "      <th>5565</th>\n",
       "      <td>5222005</td>\n",
       "      <td>GO</td>\n",
       "      <td>Centro</td>\n",
       "      <td>-1</td>\n",
       "      <td>Não</td>\n",
       "      <td>Sem Dados</td>\n",
       "      <td>Sem Dados</td>\n",
       "      <td>Sem Dados</td>\n",
       "    </tr>\n",
       "    <tr>\n",
       "      <th>5566</th>\n",
       "      <td>5222054</td>\n",
       "      <td>GO</td>\n",
       "      <td>Centro</td>\n",
       "      <td>-1</td>\n",
       "      <td>Não</td>\n",
       "      <td>Sem Dados</td>\n",
       "      <td>Sem Dados</td>\n",
       "      <td>Sem Dados</td>\n",
       "    </tr>\n",
       "    <tr>\n",
       "      <th>5567</th>\n",
       "      <td>5222203</td>\n",
       "      <td>GO</td>\n",
       "      <td>Centro</td>\n",
       "      <td>-1</td>\n",
       "      <td>Sim</td>\n",
       "      <td>Não</td>\n",
       "      <td>Sim</td>\n",
       "      <td>Não</td>\n",
       "    </tr>\n",
       "    <tr>\n",
       "      <th>5568</th>\n",
       "      <td>5222302</td>\n",
       "      <td>GO</td>\n",
       "      <td>Centro</td>\n",
       "      <td>0</td>\n",
       "      <td>Sim</td>\n",
       "      <td>Não</td>\n",
       "      <td>Sim</td>\n",
       "      <td>Não</td>\n",
       "    </tr>\n",
       "    <tr>\n",
       "      <th>5569</th>\n",
       "      <td>5300108</td>\n",
       "      <td>DF</td>\n",
       "      <td>Centro</td>\n",
       "      <td>0</td>\n",
       "      <td>Sim</td>\n",
       "      <td>Sim</td>\n",
       "      <td>Não</td>\n",
       "      <td>Sim</td>\n",
       "    </tr>\n",
       "  </tbody>\n",
       "</table>\n",
       "<p>5570 rows × 8 columns</p>\n",
       "</div>"
      ],
      "text/plain": [
       "       CodMun  UF   Regiao  orgao_gestor recebe_recurso recurso_federal  \\\n",
       "0     1100015  RO    Norte            -1            Sim             Não   \n",
       "1     1100023  RO    Norte             0            Sim             Não   \n",
       "2     1100031  RO    Norte            -1            Sim             Não   \n",
       "3     1100049  RO    Norte             3            Sim             Não   \n",
       "4     1100056  RO    Norte            -1            Sim             Sim   \n",
       "...       ...  ..      ...           ...            ...             ...   \n",
       "5565  5222005  GO   Centro            -1            Não       Sem Dados   \n",
       "5566  5222054  GO   Centro            -1            Não       Sem Dados   \n",
       "5567  5222203  GO   Centro            -1            Sim             Não   \n",
       "5568  5222302  GO   Centro             0            Sim             Não   \n",
       "5569  5300108  DF   Centro             0            Sim             Sim   \n",
       "\n",
       "     recurso_estadual recurso_municipal  \n",
       "0                 Não               Sim  \n",
       "1                 Não               Sim  \n",
       "2                 Sim               Sim  \n",
       "3                 Sim               Não  \n",
       "4                 Não               Sim  \n",
       "...               ...               ...  \n",
       "5565        Sem Dados         Sem Dados  \n",
       "5566        Sem Dados         Sem Dados  \n",
       "5567              Sim               Não  \n",
       "5568              Sim               Não  \n",
       "5569              Não               Sim  \n",
       "\n",
       "[5570 rows x 8 columns]"
      ]
     },
     "execution_count": 54,
     "metadata": {},
     "output_type": "execute_result"
    }
   ],
   "source": [
    "data_modificado"
   ]
  },
  {
   "cell_type": "markdown",
   "id": "77af43d3-2a18-4007-8dde-f7f44a3b0a51",
   "metadata": {},
   "source": [
    "### Análise inicial - Recebimento de algum recurso\n",
    "<hr>"
   ]
  },
  {
   "cell_type": "code",
   "execution_count": 56,
   "id": "3c4fc1a1-30be-4e50-9eb0-8c7ab66f8ba6",
   "metadata": {},
   "outputs": [
    {
     "name": "stdout",
     "output_type": "stream",
     "text": [
      "Counter({'Sim': 3857, 'Não': 1704, 'Não informou': 9})\n"
     ]
    }
   ],
   "source": [
    "#Vamos inicialmente contar quantos municípios recebem algum tipo de recurso\n",
    "# Atribuindo a coluna 'recebe_recurso' à variável\n",
    "recebe_recurso = data_modificado['recebe_recurso']\n",
    "\n",
    "# Fazendo a contagem\n",
    "from collections import Counter\n",
    "contagem_recurso_geral = Counter(recebe_recurso)\n",
    "\n",
    "# Visualizando o resultado\n",
    "print(contagem_recurso_geral)"
   ]
  },
  {
   "cell_type": "code",
   "execution_count": 58,
   "id": "9ba85a96-32f1-416c-aab7-b440efbc8c21",
   "metadata": {},
   "outputs": [
    {
     "name": "stdout",
     "output_type": "stream",
     "text": [
      "Média que recebe é: 0.69\n",
      "Média que não recebe é: 0.31\n",
      "Média que não informou é: 0.001615798922800718\n"
     ]
    }
   ],
   "source": [
    "#Agora a média\n",
    "total = len(recebe_recurso)\n",
    "\n",
    "media_recebe = contagem_recurso_geral['Sim']/total\n",
    "media_nao_recebe = contagem_recurso_geral['Não']/total\n",
    "media_sem_dados = contagem_recurso_geral['Não informou']/total\n",
    "\n",
    "print(f\"Média que recebe é: {media_recebe:.2f}\")\n",
    "print(f\"Média que não recebe é: {media_nao_recebe:.2f}\")\n",
    "print(f\"Média que não informou é: {media_sem_dados:}\")"
   ]
  },
  {
   "cell_type": "code",
   "execution_count": 60,
   "id": "f11e27d7-18aa-48d3-b8ab-96e480579de1",
   "metadata": {},
   "outputs": [
    {
     "name": "stdout",
     "output_type": "stream",
     "text": [
      "Regiao\n",
      "Centro       467\n",
      "Nordeste    1794\n",
      "Norte        450\n",
      "Sudeste     1668\n",
      "Sul         1191\n",
      "Name: recebe_recurso, dtype: int64\n"
     ]
    }
   ],
   "source": [
    "# Agora vamos agrupar o recebimento ou não recebimento de recursos por região\n",
    "quantidade_por_regiao = data_modificado.groupby('Regiao')['recebe_recurso'].count()\n",
    "\n",
    "# Exibir o resultado\n",
    "print(quantidade_por_regiao)"
   ]
  },
  {
   "cell_type": "markdown",
   "id": "005beeec-4a72-4471-935d-b56404cef366",
   "metadata": {},
   "source": [
    "### Análise - Recebimento de Recurso de mais de uma Esfera Política\n",
    "<hr>"
   ]
  },
  {
   "cell_type": "code",
   "execution_count": 62,
   "id": "a83dbdf3-b9b6-4579-b3ff-9dc88078c7c4",
   "metadata": {},
   "outputs": [
    {
     "name": "stdout",
     "output_type": "stream",
     "text": [
      "Total de municípios que receberam mais de um recurso: 1416\n"
     ]
    }
   ],
   "source": [
    "# Criar uma nova coluna para contar o número de recursos recebidos por município\n",
    "data_modificado['total_recursos'] = (\n",
    "    (data_modificado['recurso_federal'] == 'Sim').astype(int) +\n",
    "    (data_modificado['recurso_estadual'] == 'Sim').astype(int) +\n",
    "    (data_modificado['recurso_municipal'] == 'Sim').astype(int)\n",
    ")\n",
    "\n",
    "# Filtrar os municípios que receberam mais de um recurso\n",
    "municipios_mais_de_um_recurso = data_modificado[data_modificado['total_recursos'] > 1]\n",
    "\n",
    "# Contar quantos municípios atendem a essa condição\n",
    "quantidade = municipios_mais_de_um_recurso.shape[0]\n",
    "\n",
    "# Exibir o resultado\n",
    "print(f\"Total de municípios que receberam mais de um recurso: {quantidade}\")"
   ]
  },
  {
   "cell_type": "code",
   "execution_count": 82,
   "id": "dd93bcc8-8092-4771-a91c-af47979f1663",
   "metadata": {},
   "outputs": [
    {
     "data": {
      "image/png": "[encoded data removed]",
      "text/plain": [
       "<Figure size 1000x600 with 1 Axes>"
      ]
     },
     "metadata": {},
     "output_type": "display_data"
    }
   ],
   "source": [
    "# Agrupar os municípios que recebem mais de um recurso por região\n",
    "municipios_por_regiao = municipios_mais_de_um_recurso.groupby('Regiao').size().reset_index(name='quantidade')\n",
    "\n",
    "# Criar um gráfico de barras para visualizar os municípios por região\n",
    "plt.figure(figsize=(10, 6))\n",
    "plt.bar(municipios_por_regiao['Regiao'], municipios_por_regiao['quantidade'], color='skyblue')\n",
    "\n",
    "# Configurar o gráfico\n",
    "plt.title('Quantidade de Municípios que Recebem Recursos em Mais de uma Esfera por Região')\n",
    "plt.xlabel('Região')\n",
    "plt.ylabel('Quantidade de Municípios')\n",
    "plt.xticks(rotation=45)\n",
    "plt.tight_layout()\n",
    "\n",
    "# Exibir o gráfico\n",
    "plt.show()"
   ]
  },
  {
   "cell_type": "markdown",
   "id": "063e5cee-5040-4526-a8f3-10c7885502f7",
   "metadata": {},
   "source": [
    "### Análise - Recebimento de Recurso Federal\n",
    "<hr>"
   ]
  },
  {
   "cell_type": "code",
   "execution_count": 64,
   "id": "8884b6d8-eab1-4475-9da1-b6dd41c10227",
   "metadata": {},
   "outputs": [
    {
     "name": "stdout",
     "output_type": "stream",
     "text": [
      "Counter({'Não': 3098, 'Sem Dados': 1704, 'Sim': 759, 'Não informou': 9})\n"
     ]
    }
   ],
   "source": [
    "#Vamos fazer o mesmo processo anterior com a coluna: recurso_federal\n",
    "recurso_federal = data_modificado['recurso_federal']\n",
    "\n",
    "recebe_recurso_federal = Counter(recurso_federal)\n",
    "print(recebe_recurso_federal)"
   ]
  },
  {
   "cell_type": "code",
   "execution_count": 66,
   "id": "7b304253-e938-4e6b-a12b-197b5f3c30f3",
   "metadata": {},
   "outputs": [
    {
     "name": "stdout",
     "output_type": "stream",
     "text": [
      "Média que recebe é: 0.14\n",
      "Média que não recebe é: 0.56\n",
      "Média que não informou é: 0.001615798922800718\n"
     ]
    }
   ],
   "source": [
    "#Agora a média\n",
    "total = len(recurso_federal)\n",
    "\n",
    "media_recebe = recebe_recurso_federal['Sim']/total\n",
    "media_nao_recebe = recebe_recurso_federal['Não']/total\n",
    "media_sem_dados = recebe_recurso_federal['Não informou']/total\n",
    "\n",
    "print(f\"Média que recebe é: {media_recebe:.2f}\")\n",
    "print(f\"Média que não recebe é: {media_nao_recebe:.2f}\")\n",
    "print(f\"Média que não informou é: {media_sem_dados:}\")"
   ]
  },
  {
   "cell_type": "markdown",
   "id": "90d8295b-4ac2-40e0-82c2-9bb7a369bc34",
   "metadata": {},
   "source": [
    "### Análise - Recebimento de Recurso Estadual\n",
    "<hr>"
   ]
  },
  {
   "cell_type": "code",
   "execution_count": 68,
   "id": "4fe13932-2791-4974-be34-399edd221a5a",
   "metadata": {},
   "outputs": [
    {
     "name": "stdout",
     "output_type": "stream",
     "text": [
      "Counter({'Sim': 2009, 'Não': 1848, 'Sem Dados': 1704, 'Não informou': 9})\n"
     ]
    }
   ],
   "source": [
    "#Vamos fazer o mesmo processo anterior com a coluna: recurso_estadual\n",
    "recurso_estadual = data_modificado['recurso_estadual']\n",
    "\n",
    "recebe_recurso_estadual = Counter(recurso_estadual)\n",
    "print(recebe_recurso_estadual)"
   ]
  },
  {
   "cell_type": "code",
   "execution_count": 70,
   "id": "71142d1d-008d-478f-bb77-2e14e76923ad",
   "metadata": {},
   "outputs": [
    {
     "name": "stdout",
     "output_type": "stream",
     "text": [
      "Média que recebe é: 0.36\n",
      "Média que não recebe é: 0.33\n",
      "Média que não informou é: 0.001615798922800718\n"
     ]
    }
   ],
   "source": [
    "#Agora a média\n",
    "total = len(recurso_estadual)\n",
    "\n",
    "media_recebe = recebe_recurso_estadual['Sim']/total\n",
    "media_nao_recebe = recebe_recurso_estadual['Não']/total\n",
    "media_sem_dados = recebe_recurso_estadual['Não informou']/total\n",
    "\n",
    "print(f\"Média que recebe é: {media_recebe:.2f}\")\n",
    "print(f\"Média que não recebe é: {media_nao_recebe:.2f}\")\n",
    "print(f\"Média que não informou é: {media_sem_dados:}\")"
   ]
  },
  {
   "cell_type": "markdown",
   "id": "5533e32b-c714-4059-b58b-5a9e10509c70",
   "metadata": {},
   "source": [
    "### Análise - Recebimento de Recurso Municipal\n",
    "<hr>"
   ]
  },
  {
   "cell_type": "code",
   "execution_count": 72,
   "id": "c5c4e423-8ce1-4888-a52b-a5e7f3937d63",
   "metadata": {},
   "outputs": [
    {
     "name": "stdout",
     "output_type": "stream",
     "text": [
      "Counter({'Sim': 2795, 'Sem Dados': 1704, 'Não': 1062, 'Não informou': 9})\n"
     ]
    }
   ],
   "source": [
    "#Vamos fazer o mesmo processo anterior com a coluna: recurso_municipal\n",
    "recurso_municipal = data_modificado['recurso_municipal']\n",
    "\n",
    "recebe_recurso_municipal = Counter(recurso_municipal)\n",
    "print(recebe_recurso_municipal)"
   ]
  },
  {
   "cell_type": "code",
   "execution_count": 74,
   "id": "c38e8f88-b2b7-4437-a8b2-6e2210637a5c",
   "metadata": {},
   "outputs": [
    {
     "name": "stdout",
     "output_type": "stream",
     "text": [
      "Média que recebe é: 0.50\n",
      "Média que não recebe é: 0.19\n",
      "Média que não informou é: 0.001615798922800718\n"
     ]
    }
   ],
   "source": [
    "#Agora a média\n",
    "total = len(recurso_municipal)\n",
    "\n",
    "media_recebe = recebe_recurso_municipal['Sim']/total\n",
    "media_nao_recebe = recebe_recurso_municipal['Não']/total\n",
    "media_sem_dados = recebe_recurso_municipal['Não informou']/total\n",
    "\n",
    "print(f\"Média que recebe é: {media_recebe:.2f}\")\n",
    "print(f\"Média que não recebe é: {media_nao_recebe:.2f}\")\n",
    "print(f\"Média que não informou é: {media_sem_dados:}\")"
   ]
  },
  {
   "cell_type": "markdown",
   "id": "c43547c2-55d7-462d-96ff-ff1d1f910916",
   "metadata": {},
   "source": [
    "### Análise - Região que mais recebe recurso federal\n",
    "<hr>"
   ]
  },
  {
   "cell_type": "code",
   "execution_count": 76,
   "id": "1913dcf6-761e-4d2b-bdfa-56c8d55d4d26",
   "metadata": {
    "scrolled": true
   },
   "outputs": [
    {
     "name": "stdout",
     "output_type": "stream",
     "text": [
      "Regiao    recurso_federal\n",
      "Centro    Não                224\n",
      "          Não informou         1\n",
      "          Sem Dados          173\n",
      "          Sim                 69\n",
      "Nordeste  Não                964\n",
      "          Sem Dados          515\n",
      "          Sim                315\n",
      "Norte     Não                235\n",
      "          Não informou         2\n",
      "          Sem Dados          137\n",
      "          Sim                 76\n",
      "Sudeste   Não                878\n",
      "          Não informou         2\n",
      "          Sem Dados          629\n",
      "          Sim                159\n",
      "Sul       Não                797\n",
      "          Não informou         4\n",
      "          Sem Dados          250\n",
      "          Sim                140\n",
      "dtype: int64\n"
     ]
    }
   ],
   "source": [
    "# Agrupar por 'Regiao' e contar os valores na coluna 'recebe_recurso'\n",
    "quantidade_por_regiao_recurso_federal = data_modificado.groupby(['Regiao', 'recurso_federal']).size()\n",
    "\n",
    "# Visualizar o resultado\n",
    "print(quantidade_por_regiao_recurso_federal)"
   ]
  },
  {
   "cell_type": "code",
   "execution_count": 78,
   "id": "24b56e23-d23d-4018-a71d-2045ad295552",
   "metadata": {},
   "outputs": [
    {
     "name": "stdout",
     "output_type": "stream",
     "text": [
      "Regiao\n",
      "Centro      0.933619\n",
      "Nordeste    1.020624\n",
      "Norte       0.955556\n",
      "Sudeste     0.891487\n",
      "Sul         1.157851\n",
      "Name: total_recursos, dtype: float64\n"
     ]
    }
   ],
   "source": [
    "media_por_regiao = data_modificado.groupby('Regiao')['total_recursos'].mean()\n",
    "print(media_por_regiao )"
   ]
  },
  {
   "cell_type": "code",
   "execution_count": 80,
   "id": "bedc419b-e2c0-44f7-8340-aafc2ddf450c",
   "metadata": {},
   "outputs": [
    {
     "data": {
      "image/png": "[encoded data removed]",
      "text/plain": [
       "<Figure size 1000x600 with 1 Axes>"
      ]
     },
     "metadata": {},
     "output_type": "display_data"
    }
   ],
   "source": [
    "import matplotlib.pyplot as plt\n",
    "\n",
    "# Agrupar por 'Regiao' e 'recurso_federal' e contar os valores\n",
    "quantidade_por_regiao_recurso_federal = data_modificado.groupby(['Regiao', 'recurso_federal']).size()\n",
    "\n",
    "# Transformar em DataFrame para facilitar o processamento\n",
    "quantidade_por_regiao_recurso_federal = quantidade_por_regiao_recurso_federal.reset_index(name='quantidade')\n",
    "\n",
    "# Calcular as porcentagens por região\n",
    "quantidade_por_regiao_recurso_federal['percentual'] = quantidade_por_regiao_recurso_federal.groupby('Regiao')['quantidade'].transform(lambda x: x / x.sum() * 100)\n",
    "\n",
    "# Criar um gráfico de barras empilhadas para representar as porcentagens\n",
    "pivot_data = quantidade_por_regiao_recurso_federal.pivot(index='Regiao', columns='recurso_federal', values='percentual')\n",
    "pivot_data.plot(kind='bar', stacked=True, figsize=(10, 6))\n",
    "\n",
    "# Configurar o gráfico\n",
    "plt.title('Porcentagem de Recursos Federais por Região')\n",
    "plt.xlabel('Região')\n",
    "plt.ylabel('Porcentagem (%)')\n",
    "plt.legend(title='Recurso Federal', bbox_to_anchor=(1.05, 1), loc='upper left')\n",
    "plt.tight_layout()\n",
    "plt.show()\n"
   ]
  },
  {
   "cell_type": "markdown",
   "id": "7984ca71-247f-463b-9dbe-0d3a93570599",
   "metadata": {
    "jp-MarkdownHeadingCollapsed": true
   },
   "source": [
    "### Análise Final\n",
    "<hr>\n",
    "<p style=\"text-align: justify;\">\n",
    "Com base nas informações coletadas, tratadas e analisadas, constatou-se que <strong>69%</strong> dos municípios brasileiros receberam algum recurso público em <strong>2023</strong> destinado ao incentivo de Serviços de Assistência Técnica e Extensão Rural para agricultores familiares e povos de comunidades tradicionais. Por outro lado, <strong>31%</strong> dos municípios não receberam nenhum recurso, enquanto uma pequena parcela, correspondente a <strong>0,16%</strong>, não informou se recebeu ou não.\n",
    "</p>\n",
    "<p style=\"text-align: justify;\">\n",
    "A análise também revelou que <strong>1.416</strong> municípios foram beneficiados por recursos provenientes de mais de uma esfera pública (federal, estadual e/ou municipal), evidenciando a integração de esforços entre diferentes níveis de governo para o fomento desses serviços.\n",
    "</p>\n",
    "<p style=\"text-align: justify;\">\n",
    "Além disso, foi identificado que a região <strong>Nordeste</strong> não apenas é a que mais recebe recursos federais, mas também concentra o maior número de municípios que não recebem esse tipo de recurso, demonstrando uma desigualdade interna na distribuição dos recursos públicos.\n",
    "</p>"
   ]
  }
 ],
 "metadata": {
  "kernelspec": {
   "display_name": "Python [conda env:base] *",
   "language": "python",
   "name": "conda-base-py"
  },
  "language_info": {
   "codemirror_mode": {
    "name": "ipython",
    "version": 3
   },
   "file_extension": ".py",
   "mimetype": "text/x-python",
   "name": "python",
   "nbconvert_exporter": "python",
   "pygments_lexer": "ipython3",
   "version": "3.12.7"
  }
 },
 "nbformat": 4,
 "nbformat_minor": 5
}
